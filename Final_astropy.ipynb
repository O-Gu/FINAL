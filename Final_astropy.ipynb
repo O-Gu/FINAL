{
 "cells": [
  {
   "cell_type": "code",
   "execution_count": 60,
   "id": "0dc4d1cc",
   "metadata": {},
   "outputs": [],
   "source": [
    "import numpy as np\n",
    "import sep"
   ]
  },
  {
   "cell_type": "code",
   "execution_count": 89,
   "id": "92fdc29b",
   "metadata": {},
   "outputs": [],
   "source": [
    "from astropy.io import fits\n",
    "import matplotlib.pyplot as plt\n",
    "from matplotlib import rcParams\n",
    "from matplotlib.patches import Ellipse\n",
    "\n",
    "%matplotlib inline\n",
    "\n",
    "rcParams['figure.figsize'] = [10., 8.]"
   ]
  },
  {
   "cell_type": "code",
   "execution_count": 90,
   "id": "922c167e",
   "metadata": {},
   "outputs": [
    {
     "data": {
      "image/png": "[encoded data removed]",
      "text/plain": [
       "<Figure size 720x576 with 2 Axes>"
      ]
     },
     "metadata": {
      "needs_background": "light"
     },
     "output_type": "display_data"
    }
   ],
   "source": [
    "fits_image_filename = fits.util.get_testdata_filepath('test0.fits')\n",
    "hdul = fits.open(fits_image_filename)\n",
    "data = hdul[1].data\n",
    "m, s = np.mean(data), np.std(data)\n",
    "plt.imshow(data, interpolation='nearest', cmap='gray', vmin=m-s, vmax=m+s, origin='lower')\n",
    "plt.colorbar();"
   ]
  },
  {
   "cell_type": "code",
   "execution_count": 91,
   "id": "058527d3",
   "metadata": {},
   "outputs": [
    {
     "ename": "NameError",
     "evalue": "name 'unit16' is not defined",
     "output_type": "error",
     "traceback": [
      "\u001b[1;31m---------------------------------------------------------------------------\u001b[0m",
      "\u001b[1;31mNameError\u001b[0m                                 Traceback (most recent call last)",
      "Input \u001b[1;32mIn [91]\u001b[0m, in \u001b[0;36m<cell line: 1>\u001b[1;34m()\u001b[0m\n\u001b[1;32m----> 1\u001b[0m data \u001b[38;5;241m=\u001b[39m data\u001b[38;5;241m.\u001b[39mbyteswap()\u001b[38;5;241m.\u001b[39mnewbyteorder()\u001b[38;5;241m.\u001b[39mastype(\u001b[43munit16\u001b[49m)\n\u001b[0;32m      2\u001b[0m bkg \u001b[38;5;241m=\u001b[39m sep\u001b[38;5;241m.\u001b[39mBackground(data, bw\u001b[38;5;241m=\u001b[39m\u001b[38;5;241m64\u001b[39m, bh\u001b[38;5;241m=\u001b[39m\u001b[38;5;241m64\u001b[39m, fw\u001b[38;5;241m=\u001b[39m\u001b[38;5;241m3\u001b[39m, fh\u001b[38;5;241m=\u001b[39m\u001b[38;5;241m3\u001b[39m)\n\u001b[0;32m      3\u001b[0m \u001b[38;5;28mprint\u001b[39m(bkg\u001b[38;5;241m.\u001b[39mglobalback)\n",
      "\u001b[1;31mNameError\u001b[0m: name 'unit16' is not defined"
     ]
    }
   ],
   "source": [
    "data = data.byteswap().newbyteorder().astype(unit16)\n",
    "bkg = sep.Background(data, bw=64, bh=64, fw=3, fh=3)\n",
    "print(bkg.globalback)\n",
    "print(bkg.globalrms)\n",
    "plt.imshow(bkg_image, interpolation='nearest', cmap='gray', origin='lower')\n",
    "plt.colorbar();\n",
    "\n",
    "bkg_rms = bkg.rms()\n",
    "plt.imshow(bkg_rms, interpolation='nearest', cmap='gray', origin='lower')\n",
    "plt.colorbar();\n",
    "data_sub = data - bkg"
   ]
  },
  {
   "cell_type": "code",
   "execution_count": 92,
   "id": "d037c3c2",
   "metadata": {},
   "outputs": [
    {
     "ename": "NameError",
     "evalue": "name 'bkg' is not defined",
     "output_type": "error",
     "traceback": [
      "\u001b[1;31m---------------------------------------------------------------------------\u001b[0m",
      "\u001b[1;31mNameError\u001b[0m                                 Traceback (most recent call last)",
      "Input \u001b[1;32mIn [92]\u001b[0m, in \u001b[0;36m<cell line: 1>\u001b[1;34m()\u001b[0m\n\u001b[1;32m----> 1\u001b[0m data_sub \u001b[38;5;241m=\u001b[39m data \u001b[38;5;241m-\u001b[39m \u001b[43mbkg\u001b[49m\n\u001b[0;32m      2\u001b[0m objects \u001b[38;5;241m=\u001b[39m sep\u001b[38;5;241m.\u001b[39mextract(data_sub, \u001b[38;5;241m1.5\u001b[39m, err\u001b[38;5;241m=\u001b[39mbkg\u001b[38;5;241m.\u001b[39mglobalrms)\n\u001b[0;32m      3\u001b[0m \u001b[38;5;28mlen\u001b[39m(objects)\n",
      "\u001b[1;31mNameError\u001b[0m: name 'bkg' is not defined"
     ]
    }
   ],
   "source": [
    "data_sub = data - bkg\n",
    "objects = sep.extract(data_sub, 1.5, err=bkg.globalrms)\n",
    "len(objects)\n",
    "\n",
    "fig, ax = plt.subplots()\n",
    "m, s = np.mean(data_sub), np.std(data_sub)\n",
    "im = ax.imshow(data_sub, interpolation='nearest', cmap='gray',\n",
    "               vmin=m-s, vmax=m+s, origin='lower')\n",
    "\n",
    "for i in range(len(objects)):\n",
    "    e = Ellipse(xy=(objects['x'][i], objects['y'][i]),\n",
    "                width=6*objects['a'][i],\n",
    "                height=6*objects['b'][i],\n",
    "                angle=objects['theta'][i] * 180. / np.pi)\n",
    "    e.set_facecolor('none')\n",
    "    e.set_edgecolor('red')\n",
    "    ax.add_artist(e)\n"
   ]
  },
  {
   "cell_type": "code",
   "execution_count": 93,
   "id": "96d8b5d7",
   "metadata": {},
   "outputs": [
    {
     "ename": "NameError",
     "evalue": "name 'objects' is not defined",
     "output_type": "error",
     "traceback": [
      "\u001b[1;31m---------------------------------------------------------------------------\u001b[0m",
      "\u001b[1;31mNameError\u001b[0m                                 Traceback (most recent call last)",
      "Input \u001b[1;32mIn [93]\u001b[0m, in \u001b[0;36m<cell line: 1>\u001b[1;34m()\u001b[0m\n\u001b[1;32m----> 1\u001b[0m \u001b[43mobjects\u001b[49m\u001b[38;5;241m.\u001b[39mdtype\u001b[38;5;241m.\u001b[39mnames\n\u001b[0;32m      2\u001b[0m flux, fluxerr, flag \u001b[38;5;241m=\u001b[39m sep\u001b[38;5;241m.\u001b[39msum_circle(data_sub, objects[\u001b[38;5;124m'\u001b[39m\u001b[38;5;124mx\u001b[39m\u001b[38;5;124m'\u001b[39m], objects[\u001b[38;5;124m'\u001b[39m\u001b[38;5;124my\u001b[39m\u001b[38;5;124m'\u001b[39m],\u001b[38;5;241m3.0\u001b[39m, err\u001b[38;5;241m=\u001b[39mbkg\u001b[38;5;241m.\u001b[39mglobalrms, gain\u001b[38;5;241m=\u001b[39m\u001b[38;5;241m1.0\u001b[39m)\n\u001b[0;32m      3\u001b[0m \u001b[38;5;28;01mfor\u001b[39;00m i \u001b[38;5;129;01min\u001b[39;00m \u001b[38;5;28mrange\u001b[39m(\u001b[38;5;241m10\u001b[39m):\n",
      "\u001b[1;31mNameError\u001b[0m: name 'objects' is not defined"
     ]
    }
   ],
   "source": [
    "objects.dtype.names\n",
    "flux, fluxerr, flag = sep.sum_circle(data_sub, objects['x'], objects['y'],3.0, err=bkg.globalrms, gain=1.0)\n",
    "for i in range(10):\n",
    "    print(\"object {:d}: flux = {:f} +/- {:f}\".format(i, flux[i], fluxerr[i]))"
   ]
  },
  {
   "cell_type": "code",
   "execution_count": null,
   "id": "801b0837",
   "metadata": {},
   "outputs": [],
   "source": []
  }
 ],
 "metadata": {
  "kernelspec": {
   "display_name": "Python 3 (ipykernel)",
   "language": "python",
   "name": "python3"
  },
  "language_info": {
   "codemirror_mode": {
    "name": "ipython",
    "version": 3
   },
   "file_extension": ".py",
   "mimetype": "text/x-python",
   "name": "python",
   "nbconvert_exporter": "python",
   "pygments_lexer": "ipython3",
   "version": "3.10.4"
  }
 },
 "nbformat": 4,
 "nbformat_minor": 5
}
